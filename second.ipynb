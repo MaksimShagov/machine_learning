{
 "cells": [
  {
   "cell_type": "code",
   "execution_count": 134,
   "metadata": {},
   "outputs": [],
   "source": [
    "import numpy as np\n",
    "import matplotlib.pyplot as plt\n",
    "import pandas as pd  \n",
    "%matplotlib inline"
   ]
  },
  {
   "cell_type": "markdown",
   "metadata": {},
   "source": [
    "# 1. Чтение данных"
   ]
  },
  {
   "cell_type": "markdown",
   "metadata": {},
   "source": [
    "Загружаем обработанные данные из прошлой лабораторной работы"
   ]
  },
  {
   "cell_type": "code",
   "execution_count": 135,
   "metadata": {},
   "outputs": [
    {
     "data": {
      "text/plain": [
       "(9132, 40)"
      ]
     },
     "execution_count": 135,
     "metadata": {},
     "output_type": "execute_result"
    }
   ],
   "source": [
    "data = pd.read_csv(\"googlepalystory_obr.csv\")\n",
    "data.shape"
   ]
  },
  {
   "cell_type": "code",
   "execution_count": 136,
   "metadata": {},
   "outputs": [
    {
     "data": {
      "text/plain": [
       "0       False\n",
       "1       False\n",
       "2       False\n",
       "3       False\n",
       "4       False\n",
       "        ...  \n",
       "9127    False\n",
       "9128    False\n",
       "9129    False\n",
       "9130    False\n",
       "9131    False\n",
       "Name: Type, Length: 9132, dtype: bool"
      ]
     },
     "execution_count": 136,
     "metadata": {},
     "output_type": "execute_result"
    }
   ],
   "source": [
    "data['Type'] = data['Type'].astype('bool')\n",
    "data['Type'] "
   ]
  },
  {
   "cell_type": "code",
   "execution_count": 137,
   "metadata": {},
   "outputs": [
    {
     "data": {
      "text/html": [
       "<div>\n",
       "<style scoped>\n",
       "    .dataframe tbody tr th:only-of-type {\n",
       "        vertical-align: middle;\n",
       "    }\n",
       "\n",
       "    .dataframe tbody tr th {\n",
       "        vertical-align: top;\n",
       "    }\n",
       "\n",
       "    .dataframe thead th {\n",
       "        text-align: right;\n",
       "    }\n",
       "</style>\n",
       "<table border=\"1\" class=\"dataframe\">\n",
       "  <thead>\n",
       "    <tr style=\"text-align: right;\">\n",
       "      <th></th>\n",
       "      <th>Rating</th>\n",
       "      <th>Reviews</th>\n",
       "      <th>Size</th>\n",
       "      <th>Installs</th>\n",
       "      <th>Price</th>\n",
       "      <th>Content Rating</th>\n",
       "      <th>ART_AND_DESIGN</th>\n",
       "      <th>AUTO_AND_VEHICLES</th>\n",
       "      <th>BEAUTY</th>\n",
       "      <th>BOOKS_AND_REFERENCE</th>\n",
       "      <th>...</th>\n",
       "      <th>PERSONALIZATION</th>\n",
       "      <th>PHOTOGRAPHY</th>\n",
       "      <th>PRODUCTIVITY</th>\n",
       "      <th>SHOPPING</th>\n",
       "      <th>SOCIAL</th>\n",
       "      <th>SPORTS</th>\n",
       "      <th>TOOLS</th>\n",
       "      <th>TRAVEL_AND_LOCAL</th>\n",
       "      <th>VIDEO_PLAYERS</th>\n",
       "      <th>WEATHER</th>\n",
       "    </tr>\n",
       "  </thead>\n",
       "  <tbody>\n",
       "    <tr>\n",
       "      <th>count</th>\n",
       "      <td>9132.000000</td>\n",
       "      <td>9.132000e+03</td>\n",
       "      <td>9132.000000</td>\n",
       "      <td>9132.000000</td>\n",
       "      <td>9132.000000</td>\n",
       "      <td>9132.000000</td>\n",
       "      <td>9132.000000</td>\n",
       "      <td>9132.000000</td>\n",
       "      <td>9132.000000</td>\n",
       "      <td>9132.000000</td>\n",
       "      <td>...</td>\n",
       "      <td>9132.000000</td>\n",
       "      <td>9132.000000</td>\n",
       "      <td>9132.000000</td>\n",
       "      <td>9132.000000</td>\n",
       "      <td>9132.000000</td>\n",
       "      <td>9132.000000</td>\n",
       "      <td>9132.000000</td>\n",
       "      <td>9132.000000</td>\n",
       "      <td>9132.000000</td>\n",
       "      <td>9132.000000</td>\n",
       "    </tr>\n",
       "    <tr>\n",
       "      <th>mean</th>\n",
       "      <td>0.796356</td>\n",
       "      <td>1.184964e-03</td>\n",
       "      <td>0.033734</td>\n",
       "      <td>0.140198</td>\n",
       "      <td>0.016001</td>\n",
       "      <td>0.094357</td>\n",
       "      <td>0.006680</td>\n",
       "      <td>0.009198</td>\n",
       "      <td>0.005804</td>\n",
       "      <td>0.023544</td>\n",
       "      <td>...</td>\n",
       "      <td>0.039093</td>\n",
       "      <td>0.026172</td>\n",
       "      <td>0.037232</td>\n",
       "      <td>0.020696</td>\n",
       "      <td>0.024201</td>\n",
       "      <td>0.034275</td>\n",
       "      <td>0.084100</td>\n",
       "      <td>0.023106</td>\n",
       "      <td>0.015988</td>\n",
       "      <td>0.008213</td>\n",
       "    </tr>\n",
       "    <tr>\n",
       "      <th>std</th>\n",
       "      <td>0.126154</td>\n",
       "      <td>1.927887e-02</td>\n",
       "      <td>0.088280</td>\n",
       "      <td>0.315801</td>\n",
       "      <td>0.073400</td>\n",
       "      <td>0.232804</td>\n",
       "      <td>0.081461</td>\n",
       "      <td>0.095472</td>\n",
       "      <td>0.075965</td>\n",
       "      <td>0.151630</td>\n",
       "      <td>...</td>\n",
       "      <td>0.193828</td>\n",
       "      <td>0.159654</td>\n",
       "      <td>0.189339</td>\n",
       "      <td>0.142374</td>\n",
       "      <td>0.153680</td>\n",
       "      <td>0.181945</td>\n",
       "      <td>0.277553</td>\n",
       "      <td>0.150247</td>\n",
       "      <td>0.125435</td>\n",
       "      <td>0.090257</td>\n",
       "    </tr>\n",
       "    <tr>\n",
       "      <th>min</th>\n",
       "      <td>0.000000</td>\n",
       "      <td>0.000000e+00</td>\n",
       "      <td>0.000000</td>\n",
       "      <td>0.000000</td>\n",
       "      <td>0.000000</td>\n",
       "      <td>0.000000</td>\n",
       "      <td>0.000000</td>\n",
       "      <td>0.000000</td>\n",
       "      <td>0.000000</td>\n",
       "      <td>0.000000</td>\n",
       "      <td>...</td>\n",
       "      <td>0.000000</td>\n",
       "      <td>0.000000</td>\n",
       "      <td>0.000000</td>\n",
       "      <td>0.000000</td>\n",
       "      <td>0.000000</td>\n",
       "      <td>0.000000</td>\n",
       "      <td>0.000000</td>\n",
       "      <td>0.000000</td>\n",
       "      <td>0.000000</td>\n",
       "      <td>0.000000</td>\n",
       "    </tr>\n",
       "    <tr>\n",
       "      <th>25%</th>\n",
       "      <td>0.750000</td>\n",
       "      <td>2.814800e-07</td>\n",
       "      <td>0.005691</td>\n",
       "      <td>0.000000</td>\n",
       "      <td>0.000000</td>\n",
       "      <td>0.000000</td>\n",
       "      <td>0.000000</td>\n",
       "      <td>0.000000</td>\n",
       "      <td>0.000000</td>\n",
       "      <td>0.000000</td>\n",
       "      <td>...</td>\n",
       "      <td>0.000000</td>\n",
       "      <td>0.000000</td>\n",
       "      <td>0.000000</td>\n",
       "      <td>0.000000</td>\n",
       "      <td>0.000000</td>\n",
       "      <td>0.000000</td>\n",
       "      <td>0.000000</td>\n",
       "      <td>0.000000</td>\n",
       "      <td>0.000000</td>\n",
       "      <td>0.000000</td>\n",
       "    </tr>\n",
       "    <tr>\n",
       "      <th>50%</th>\n",
       "      <td>0.825000</td>\n",
       "      <td>9.615101e-06</td>\n",
       "      <td>0.013937</td>\n",
       "      <td>0.001000</td>\n",
       "      <td>0.000000</td>\n",
       "      <td>0.000000</td>\n",
       "      <td>0.000000</td>\n",
       "      <td>0.000000</td>\n",
       "      <td>0.000000</td>\n",
       "      <td>0.000000</td>\n",
       "      <td>...</td>\n",
       "      <td>0.000000</td>\n",
       "      <td>0.000000</td>\n",
       "      <td>0.000000</td>\n",
       "      <td>0.000000</td>\n",
       "      <td>0.000000</td>\n",
       "      <td>0.000000</td>\n",
       "      <td>0.000000</td>\n",
       "      <td>0.000000</td>\n",
       "      <td>0.000000</td>\n",
       "      <td>0.000000</td>\n",
       "    </tr>\n",
       "    <tr>\n",
       "      <th>75%</th>\n",
       "      <td>0.875000</td>\n",
       "      <td>2.716634e-04</td>\n",
       "      <td>0.030197</td>\n",
       "      <td>0.010000</td>\n",
       "      <td>0.000000</td>\n",
       "      <td>0.000000</td>\n",
       "      <td>0.000000</td>\n",
       "      <td>0.000000</td>\n",
       "      <td>0.000000</td>\n",
       "      <td>0.000000</td>\n",
       "      <td>...</td>\n",
       "      <td>0.000000</td>\n",
       "      <td>0.000000</td>\n",
       "      <td>0.000000</td>\n",
       "      <td>0.000000</td>\n",
       "      <td>0.000000</td>\n",
       "      <td>0.000000</td>\n",
       "      <td>0.000000</td>\n",
       "      <td>0.000000</td>\n",
       "      <td>0.000000</td>\n",
       "      <td>0.000000</td>\n",
       "    </tr>\n",
       "    <tr>\n",
       "      <th>max</th>\n",
       "      <td>1.000000</td>\n",
       "      <td>1.000000e+00</td>\n",
       "      <td>1.000000</td>\n",
       "      <td>1.000000</td>\n",
       "      <td>1.000000</td>\n",
       "      <td>1.000000</td>\n",
       "      <td>1.000000</td>\n",
       "      <td>1.000000</td>\n",
       "      <td>1.000000</td>\n",
       "      <td>1.000000</td>\n",
       "      <td>...</td>\n",
       "      <td>1.000000</td>\n",
       "      <td>1.000000</td>\n",
       "      <td>1.000000</td>\n",
       "      <td>1.000000</td>\n",
       "      <td>1.000000</td>\n",
       "      <td>1.000000</td>\n",
       "      <td>1.000000</td>\n",
       "      <td>1.000000</td>\n",
       "      <td>1.000000</td>\n",
       "      <td>1.000000</td>\n",
       "    </tr>\n",
       "  </tbody>\n",
       "</table>\n",
       "<p>8 rows × 39 columns</p>\n",
       "</div>"
      ],
      "text/plain": [
       "            Rating       Reviews         Size     Installs        Price  \\\n",
       "count  9132.000000  9.132000e+03  9132.000000  9132.000000  9132.000000   \n",
       "mean      0.796356  1.184964e-03     0.033734     0.140198     0.016001   \n",
       "std       0.126154  1.927887e-02     0.088280     0.315801     0.073400   \n",
       "min       0.000000  0.000000e+00     0.000000     0.000000     0.000000   \n",
       "25%       0.750000  2.814800e-07     0.005691     0.000000     0.000000   \n",
       "50%       0.825000  9.615101e-06     0.013937     0.001000     0.000000   \n",
       "75%       0.875000  2.716634e-04     0.030197     0.010000     0.000000   \n",
       "max       1.000000  1.000000e+00     1.000000     1.000000     1.000000   \n",
       "\n",
       "       Content Rating  ART_AND_DESIGN  AUTO_AND_VEHICLES       BEAUTY  \\\n",
       "count     9132.000000     9132.000000        9132.000000  9132.000000   \n",
       "mean         0.094357        0.006680           0.009198     0.005804   \n",
       "std          0.232804        0.081461           0.095472     0.075965   \n",
       "min          0.000000        0.000000           0.000000     0.000000   \n",
       "25%          0.000000        0.000000           0.000000     0.000000   \n",
       "50%          0.000000        0.000000           0.000000     0.000000   \n",
       "75%          0.000000        0.000000           0.000000     0.000000   \n",
       "max          1.000000        1.000000           1.000000     1.000000   \n",
       "\n",
       "       BOOKS_AND_REFERENCE  ...  PERSONALIZATION  PHOTOGRAPHY  PRODUCTIVITY  \\\n",
       "count          9132.000000  ...      9132.000000  9132.000000   9132.000000   \n",
       "mean              0.023544  ...         0.039093     0.026172      0.037232   \n",
       "std               0.151630  ...         0.193828     0.159654      0.189339   \n",
       "min               0.000000  ...         0.000000     0.000000      0.000000   \n",
       "25%               0.000000  ...         0.000000     0.000000      0.000000   \n",
       "50%               0.000000  ...         0.000000     0.000000      0.000000   \n",
       "75%               0.000000  ...         0.000000     0.000000      0.000000   \n",
       "max               1.000000  ...         1.000000     1.000000      1.000000   \n",
       "\n",
       "          SHOPPING       SOCIAL       SPORTS        TOOLS  TRAVEL_AND_LOCAL  \\\n",
       "count  9132.000000  9132.000000  9132.000000  9132.000000       9132.000000   \n",
       "mean      0.020696     0.024201     0.034275     0.084100          0.023106   \n",
       "std       0.142374     0.153680     0.181945     0.277553          0.150247   \n",
       "min       0.000000     0.000000     0.000000     0.000000          0.000000   \n",
       "25%       0.000000     0.000000     0.000000     0.000000          0.000000   \n",
       "50%       0.000000     0.000000     0.000000     0.000000          0.000000   \n",
       "75%       0.000000     0.000000     0.000000     0.000000          0.000000   \n",
       "max       1.000000     1.000000     1.000000     1.000000          1.000000   \n",
       "\n",
       "       VIDEO_PLAYERS      WEATHER  \n",
       "count    9132.000000  9132.000000  \n",
       "mean        0.015988     0.008213  \n",
       "std         0.125435     0.090257  \n",
       "min         0.000000     0.000000  \n",
       "25%         0.000000     0.000000  \n",
       "50%         0.000000     0.000000  \n",
       "75%         0.000000     0.000000  \n",
       "max         1.000000     1.000000  \n",
       "\n",
       "[8 rows x 39 columns]"
      ]
     },
     "execution_count": 137,
     "metadata": {},
     "output_type": "execute_result"
    }
   ],
   "source": [
    "data.describe()"
   ]
  },
  {
   "cell_type": "code",
   "execution_count": 138,
   "metadata": {},
   "outputs": [
    {
     "data": {
      "text/plain": [
       "Index(['Rating', 'Reviews', 'Size', 'Installs', 'Type', 'Price',\n",
       "       'Content Rating', 'ART_AND_DESIGN', 'AUTO_AND_VEHICLES', 'BEAUTY',\n",
       "       'BOOKS_AND_REFERENCE', 'BUSINESS', 'COMICS', 'COMMUNICATION', 'DATING',\n",
       "       'EDUCATION', 'ENTERTAINMENT', 'EVENTS', 'FAMILY', 'FINANCE',\n",
       "       'FOOD_AND_DRINK', 'GAME', 'HEALTH_AND_FITNESS', 'HOUSE_AND_HOME',\n",
       "       'LIBRARIES_AND_DEMO', 'LIFESTYLE', 'MAPS_AND_NAVIGATION', 'MEDICAL',\n",
       "       'NEWS_AND_MAGAZINES', 'PARENTING', 'PERSONALIZATION', 'PHOTOGRAPHY',\n",
       "       'PRODUCTIVITY', 'SHOPPING', 'SOCIAL', 'SPORTS', 'TOOLS',\n",
       "       'TRAVEL_AND_LOCAL', 'VIDEO_PLAYERS', 'WEATHER'],\n",
       "      dtype='object')"
      ]
     },
     "execution_count": 138,
     "metadata": {},
     "output_type": "execute_result"
    }
   ],
   "source": [
    "data.columns"
   ]
  },
  {
   "cell_type": "code",
   "execution_count": 139,
   "metadata": {},
   "outputs": [],
   "source": [
    "X = data.drop(['Type', 'Price'], axis=1)\n",
    "y = data['Type']"
   ]
  },
  {
   "cell_type": "markdown",
   "metadata": {},
   "source": [
    "# 2. Разбиение датасета на обучающую и тестовую выборки"
   ]
  },
  {
   "cell_type": "code",
   "execution_count": 140,
   "metadata": {},
   "outputs": [],
   "source": [
    "from sklearn.model_selection import train_test_split\n",
    "X_train, X_test, y_train, y_test = train_test_split(X, y, test_size = 0.33, random_state = 33)\n",
    "N_test, _ = X_test.shape"
   ]
  },
  {
   "cell_type": "code",
   "execution_count": 141,
   "metadata": {},
   "outputs": [],
   "source": [
    "from sklearn.neural_network import MLPClassifier"
   ]
  },
  {
   "cell_type": "markdown",
   "metadata": {},
   "source": [
    "# 3. Создание модели и ее обучение"
   ]
  },
  {
   "cell_type": "code",
   "execution_count": 142,
   "metadata": {},
   "outputs": [],
   "source": [
    "mlp_model = MLPClassifier(hidden_layer_sizes = (100,),\n",
    "                          solver = 'adam', \n",
    "                          activation = 'relu',\n",
    "                          max_iter=1000,\n",
    "                          random_state = 30)"
   ]
  },
  {
   "cell_type": "code",
   "execution_count": 143,
   "metadata": {},
   "outputs": [
    {
     "name": "stdout",
     "output_type": "stream",
     "text": [
      "Wall time: 14.8 s\n"
     ]
    },
    {
     "data": {
      "text/plain": [
       "MLPClassifier(max_iter=1000, random_state=30)"
      ]
     },
     "execution_count": 143,
     "metadata": {},
     "output_type": "execute_result"
    }
   ],
   "source": [
    "%%time\n",
    "mlp_model.fit(X_train, y_train)"
   ]
  },
  {
   "cell_type": "code",
   "execution_count": 144,
   "metadata": {},
   "outputs": [],
   "source": [
    "y_train_pred = mlp_model.predict(X_train)\n",
    "y_test_pred = mlp_model.predict(X_test)"
   ]
  },
  {
   "cell_type": "code",
   "execution_count": 145,
   "metadata": {},
   "outputs": [
    {
     "name": "stdout",
     "output_type": "stream",
     "text": [
      "0.06979405034324943 0.08195089581950896\n"
     ]
    }
   ],
   "source": [
    "print(np.mean(y_train != y_train_pred), np.mean(y_test != y_test_pred))"
   ]
  },
  {
   "cell_type": "markdown",
   "metadata": {},
   "source": [
    "# 4. Подбор оптимального альфа"
   ]
  },
  {
   "cell_type": "code",
   "execution_count": 146,
   "metadata": {},
   "outputs": [],
   "source": [
    "from sklearn.metrics import accuracy_score\n",
    "alpha_arr = np.logspace(-3, 3, 10)\n",
    "test_err = []\n",
    "train_err = []\n",
    "train_acc = []\n",
    "test_acc = []\n",
    "\n",
    "for alpha in alpha_arr:\n",
    "    mlp_model = MLPClassifier(alpha = alpha, hidden_layer_sizes = (100,), \n",
    "                              solver = 'adam', activation = 'relu', max_iter=1000, random_state = 30)\n",
    "    mlp_model.fit(X_train, y_train)\n",
    "\n",
    "    y_train_pred = mlp_model.predict(X_train)\n",
    "    y_test_pred = mlp_model.predict(X_test)\n",
    "    \n",
    "    train_err.append(np.mean(y_train != y_train_pred))\n",
    "    test_err.append(np.mean(y_test != y_test_pred))\n",
    "    train_acc.append(accuracy_score(y_train, y_train_pred))\n",
    "    test_acc.append(accuracy_score(y_test, y_test_pred))"
   ]
  },
  {
   "cell_type": "code",
   "execution_count": 147,
   "metadata": {},
   "outputs": [
    {
     "data": {
      "text/plain": [
       "<matplotlib.legend.Legend at 0x2174f386520>"
      ]
     },
     "execution_count": 147,
     "metadata": {},
     "output_type": "execute_result"
    },
    {
     "data": {
      "image/png": "[encoded data removed]",
      "text/plain": [
       "<Figure size 432x288 with 1 Axes>"
      ]
     },
     "metadata": {
      "needs_background": "light"
     },
     "output_type": "display_data"
    }
   ],
   "source": [
    "plt.semilogx(alpha_arr, train_err, 'b-o', label = 'train')\n",
    "plt.semilogx(alpha_arr, test_err, 'r-o', label = 'test')\n",
    "plt.xlim([np.min(alpha_arr), np.max(alpha_arr)])\n",
    "plt.title('Error vs. alpha')\n",
    "plt.xlabel('alpha')\n",
    "plt.ylabel('error')\n",
    "plt.legend()"
   ]
  },
  {
   "cell_type": "code",
   "execution_count": 148,
   "metadata": {},
   "outputs": [
    {
     "data": {
      "text/plain": [
       "<matplotlib.legend.Legend at 0x21753fa0160>"
      ]
     },
     "execution_count": 148,
     "metadata": {},
     "output_type": "execute_result"
    },
    {
     "data": {
      "image/png": "[encoded data removed]",
      "text/plain": [
       "<Figure size 432x288 with 1 Axes>"
      ]
     },
     "metadata": {
      "needs_background": "light"
     },
     "output_type": "display_data"
    }
   ],
   "source": [
    "plt.semilogx(alpha_arr, train_acc, 'r-o', label = 'train')\n",
    "plt.semilogx(alpha_arr, test_acc, 'b-o', label = 'test')\n",
    "plt.xlim([np.min(alpha_arr), np.max(alpha_arr)])\n",
    "plt.title('Accuracy vs. alpha')\n",
    "plt.xlabel('alpha')\n",
    "plt.ylabel('Accuracy')\n",
    "plt.legend()"
   ]
  },
  {
   "cell_type": "code",
   "execution_count": 149,
   "metadata": {},
   "outputs": [
    {
     "name": "stdout",
     "output_type": "stream",
     "text": [
      "0.07044785877737823 0.0809555408095554\n"
     ]
    }
   ],
   "source": [
    "min_train_err = np.min(train_err)\n",
    "min_test_err = np.min(test_err)\n",
    "print(min_train_err, min_test_err)"
   ]
  },
  {
   "cell_type": "code",
   "execution_count": 150,
   "metadata": {},
   "outputs": [
    {
     "name": "stdout",
     "output_type": "stream",
     "text": [
      "[0.1]\n"
     ]
    }
   ],
   "source": [
    "alpha_opt = alpha_arr[test_err == min_test_err]\n",
    "print(alpha_opt)"
   ]
  },
  {
   "cell_type": "code",
   "execution_count": 151,
   "metadata": {},
   "outputs": [
    {
     "data": {
      "text/plain": [
       "0.1"
      ]
     },
     "execution_count": 151,
     "metadata": {},
     "output_type": "execute_result"
    }
   ],
   "source": [
    "alpha_opt = alpha_opt[0]\n",
    "alpha_opt"
   ]
  },
  {
   "cell_type": "code",
   "execution_count": 152,
   "metadata": {},
   "outputs": [
    {
     "name": "stdout",
     "output_type": "stream",
     "text": [
      "0.07240928407976463\n",
      "0.0809555408095554\n"
     ]
    }
   ],
   "source": [
    "mlp_model = MLPClassifier(alpha = alpha_opt, hidden_layer_sizes = (100,),\n",
    "                          solver = 'adam', activation = 'relu', max_iter=1000, random_state = 30)\n",
    "mlp_model.fit(X_train, y_train)\n",
    "\n",
    "y_train_pred = mlp_model.predict(X_train)\n",
    "y_test_pred = mlp_model.predict(X_test)\n",
    "print(np.mean(y_train != y_train_pred))\n",
    "print(np.mean(y_test != y_test_pred))"
   ]
  },
  {
   "cell_type": "markdown",
   "metadata": {},
   "source": [
    "# 5. Подбор оптимального числа нейронов"
   ]
  },
  {
   "cell_type": "code",
   "execution_count": 153,
   "metadata": {},
   "outputs": [],
   "source": [
    "neuron_arr = np.linspace(10, 100, 10).astype(int)\n",
    "test_err = []\n",
    "train_err = []\n",
    "train_acc = []\n",
    "test_acc = []\n",
    "\n",
    "for neuron in neuron_arr:\n",
    "    mlp_model = MLPClassifier(alpha = alpha_opt, hidden_layer_sizes = (neuron,), \n",
    "                              solver = 'adam', activation = 'relu', max_iter=1000, random_state = 30)\n",
    "    mlp_model.fit(X_train, y_train)\n",
    "\n",
    "    y_train_pred = mlp_model.predict(X_train)\n",
    "    y_test_pred = mlp_model.predict(X_test)\n",
    "    \n",
    "    train_err.append(np.mean(y_train != y_train_pred))\n",
    "    test_err.append(np.mean(y_test != y_test_pred))\n",
    "    train_acc.append(accuracy_score(y_train, y_train_pred))\n",
    "    test_acc.append(accuracy_score(y_test, y_test_pred))"
   ]
  },
  {
   "cell_type": "code",
   "execution_count": 154,
   "metadata": {},
   "outputs": [
    {
     "data": {
      "text/plain": [
       "<matplotlib.legend.Legend at 0x21754344340>"
      ]
     },
     "execution_count": 154,
     "metadata": {},
     "output_type": "execute_result"
    },
    {
     "data": {
      "image/png": "[encoded data removed]",
      "text/plain": [
       "<Figure size 432x288 with 1 Axes>"
      ]
     },
     "metadata": {
      "needs_background": "light"
     },
     "output_type": "display_data"
    }
   ],
   "source": [
    "plt.plot(neuron_arr, train_err, 'b-o', label = 'train')\n",
    "plt.plot(neuron_arr, test_err, 'r-o', label = 'test')\n",
    "plt.xlim([np.min(neuron_arr), np.max(neuron_arr)])\n",
    "plt.title('Error vs. neuron')\n",
    "plt.xlabel('neuron')\n",
    "plt.ylabel('error')\n",
    "plt.legend()"
   ]
  },
  {
   "cell_type": "code",
   "execution_count": 155,
   "metadata": {},
   "outputs": [
    {
     "data": {
      "text/plain": [
       "<matplotlib.legend.Legend at 0x2175567ebb0>"
      ]
     },
     "execution_count": 155,
     "metadata": {},
     "output_type": "execute_result"
    },
    {
     "data": {
      "image/png": "[encoded data removed]",
      "text/plain": [
       "<Figure size 432x288 with 1 Axes>"
      ]
     },
     "metadata": {
      "needs_background": "light"
     },
     "output_type": "display_data"
    }
   ],
   "source": [
    "plt.plot(neuron_arr, train_acc, 'r-o', label = 'train')\n",
    "plt.plot(neuron_arr, test_acc, 'b-o', label = 'test')\n",
    "plt.xlim([np.min(neuron_arr), np.max(neuron_arr)])\n",
    "plt.title('Accuracy vs. neuron')\n",
    "plt.xlabel('neuron')\n",
    "plt.ylabel('Accuracy')\n",
    "plt.legend()"
   ]
  },
  {
   "cell_type": "code",
   "execution_count": 156,
   "metadata": {},
   "outputs": [
    {
     "name": "stdout",
     "output_type": "stream",
     "text": [
      "[ 10  30  40  50  60  80 100]\n"
     ]
    }
   ],
   "source": [
    "neuron_opt = neuron_arr[test_err == min_test_err]\n",
    "print(neuron_opt)"
   ]
  },
  {
   "cell_type": "code",
   "execution_count": 157,
   "metadata": {},
   "outputs": [],
   "source": [
    "neuron_opt = neuron_opt[0]"
   ]
  },
  {
   "cell_type": "code",
   "execution_count": 158,
   "metadata": {},
   "outputs": [
    {
     "data": {
      "text/plain": [
       "10"
      ]
     },
     "execution_count": 158,
     "metadata": {},
     "output_type": "execute_result"
    }
   ],
   "source": [
    "neuron_opt"
   ]
  },
  {
   "cell_type": "code",
   "execution_count": 159,
   "metadata": {},
   "outputs": [
    {
     "name": "stdout",
     "output_type": "stream",
     "text": [
      "0.07240928407976463\n",
      "0.0809555408095554\n"
     ]
    }
   ],
   "source": [
    "mlp_model = MLPClassifier(alpha = alpha_opt, hidden_layer_sizes = (neuron_opt,),\n",
    "                          solver = 'adam', activation = 'relu', max_iter=1000, random_state = 30)\n",
    "mlp_model.fit(X_train, y_train)\n",
    "\n",
    "y_train_pred = mlp_model.predict(X_train)\n",
    "y_test_pred = mlp_model.predict(X_test)\n",
    "print(np.mean(y_train != y_train_pred))\n",
    "print(np.mean(y_test != y_test_pred))"
   ]
  },
  {
   "cell_type": "markdown",
   "metadata": {},
   "source": [
    "# 6. Подбор оптимального числа нейронов и альфа"
   ]
  },
  {
   "cell_type": "code",
   "execution_count": 160,
   "metadata": {},
   "outputs": [],
   "source": [
    "neuron_arr = np.linspace(10, 100, 5).astype(int)\n",
    "alpha_arr = np.logspace(-3, 3, 5)\n",
    "test_err = []\n",
    "train_err = []\n",
    "train_acc = []\n",
    "test_acc = []\n",
    "pars_arr = []\n",
    "\n",
    "for neuron in neuron_arr:\n",
    "    for alpha in alpha_arr:\n",
    "        mlp_model = MLPClassifier(alpha = alpha, hidden_layer_sizes = (neuron,), \n",
    "                                  solver = 'adam', activation = 'relu', max_iter=1000, random_state = 30)\n",
    "        mlp_model.fit(X_train, y_train)\n",
    "\n",
    "        y_train_pred = mlp_model.predict(X_train)\n",
    "        y_test_pred = mlp_model.predict(X_test)\n",
    "    \n",
    "        train_err.append(np.mean(y_train != y_train_pred))\n",
    "        test_err.append(np.mean(y_test != y_test_pred))\n",
    "        train_acc.append(accuracy_score(y_train, y_train_pred))\n",
    "        test_acc.append(accuracy_score(y_test, y_test_pred))\n",
    "        pars_arr.append([neuron, alpha])\n",
    "        \n",
    "       "
   ]
  },
  {
   "cell_type": "code",
   "execution_count": 161,
   "metadata": {},
   "outputs": [
    {
     "data": {
      "text/plain": [
       "[[10, 0.001],\n",
       " [10, 0.03162277660168379],\n",
       " [10, 1.0],\n",
       " [10, 31.622776601683793],\n",
       " [10, 1000.0],\n",
       " [32, 0.001],\n",
       " [32, 0.03162277660168379],\n",
       " [32, 1.0],\n",
       " [32, 31.622776601683793],\n",
       " [32, 1000.0],\n",
       " [55, 0.001],\n",
       " [55, 0.03162277660168379],\n",
       " [55, 1.0],\n",
       " [55, 31.622776601683793],\n",
       " [55, 1000.0],\n",
       " [77, 0.001],\n",
       " [77, 0.03162277660168379],\n",
       " [77, 1.0],\n",
       " [77, 31.622776601683793],\n",
       " [77, 1000.0],\n",
       " [100, 0.001],\n",
       " [100, 0.03162277660168379],\n",
       " [100, 1.0],\n",
       " [100, 31.622776601683793],\n",
       " [100, 1000.0]]"
      ]
     },
     "execution_count": 161,
     "metadata": {},
     "output_type": "execute_result"
    }
   ],
   "source": [
    "pars_arr"
   ]
  },
  {
   "cell_type": "code",
   "execution_count": 162,
   "metadata": {},
   "outputs": [
    {
     "data": {
      "text/plain": [
       "[0.07240928407976463,\n",
       " 0.07257273618829684,\n",
       " 0.07273618829682903,\n",
       " 0.07273618829682903,\n",
       " 0.07273618829682903,\n",
       " 0.07240928407976463,\n",
       " 0.07224583197123242,\n",
       " 0.07273618829682903,\n",
       " 0.07273618829682903,\n",
       " 0.07273618829682903,\n",
       " 0.07126511932003923,\n",
       " 0.07224583197123242,\n",
       " 0.07273618829682903,\n",
       " 0.07273618829682903,\n",
       " 0.07273618829682903,\n",
       " 0.07110166721150703,\n",
       " 0.07208237986270023,\n",
       " 0.07273618829682903,\n",
       " 0.07273618829682903,\n",
       " 0.07273618829682903,\n",
       " 0.07044785877737823,\n",
       " 0.07224583197123242,\n",
       " 0.07273618829682903,\n",
       " 0.07273618829682903,\n",
       " 0.07273618829682903]"
      ]
     },
     "execution_count": 162,
     "metadata": {},
     "output_type": "execute_result"
    }
   ],
   "source": [
    "train_err"
   ]
  },
  {
   "cell_type": "code",
   "execution_count": 163,
   "metadata": {},
   "outputs": [
    {
     "name": "stdout",
     "output_type": "stream",
     "text": [
      "0.07044785877737823 0.0809555408095554\n"
     ]
    }
   ],
   "source": [
    "min_train_err = np.min(train_err)\n",
    "min_test_err = np.min(test_err)\n",
    "print(min_train_err, min_test_err)"
   ]
  },
  {
   "cell_type": "code",
   "execution_count": 164,
   "metadata": {},
   "outputs": [
    {
     "name": "stdout",
     "output_type": "stream",
     "text": [
      "10 0.001\n"
     ]
    }
   ],
   "source": [
    "i, = np.where(test_err == min_test_err)\n",
    "neuron_opt, alpha_opt = pars_arr[i[0]]\n",
    "print(neuron_opt, alpha_opt)"
   ]
  },
  {
   "cell_type": "code",
   "execution_count": 165,
   "metadata": {},
   "outputs": [
    {
     "name": "stdout",
     "output_type": "stream",
     "text": [
      "0.07240928407976463\n",
      "0.0809555408095554\n"
     ]
    }
   ],
   "source": [
    "mlp_model = MLPClassifier(alpha = alpha_opt, hidden_layer_sizes = (neuron_opt,),\n",
    "                          solver = 'adam', activation = 'relu', max_iter=1000, random_state = 30)\n",
    "mlp_model.fit(X_train, y_train)\n",
    "\n",
    "y_train_pred = mlp_model.predict(X_train)\n",
    "y_test_pred = mlp_model.predict(X_test)\n",
    "print(np.mean(y_train != y_train_pred))\n",
    "print(np.mean(y_test != y_test_pred))"
   ]
  },
  {
   "cell_type": "code",
   "execution_count": 166,
   "metadata": {},
   "outputs": [
    {
     "name": "stdout",
     "output_type": "stream",
     "text": [
      "[[2769  244]\n",
      " [   0    1]]\n"
     ]
    }
   ],
   "source": [
    "from sklearn.metrics import confusion_matrix\n",
    "print(confusion_matrix(y_test_pred, y_test))"
   ]
  }
 ],
 "metadata": {
  "interpreter": {
   "hash": "0ec21e1582969ef94e201724307bc784b71a8bbb8b6131139fd1bd1d0e407099"
  },
  "kernelspec": {
   "display_name": "Python 3.9.2 64-bit",
   "language": "python",
   "name": "python3"
  },
  "language_info": {
   "codemirror_mode": {
    "name": "ipython",
    "version": 3
   },
   "file_extension": ".py",
   "mimetype": "text/x-python",
   "name": "python",
   "nbconvert_exporter": "python",
   "pygments_lexer": "ipython3",
   "version": "3.9.2"
  },
  "orig_nbformat": 4
 },
 "nbformat": 4,
 "nbformat_minor": 2
}
